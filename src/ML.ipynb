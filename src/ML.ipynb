{
 "cells": [
  {
   "cell_type": "markdown",
   "id": "0b44814e-9593-43e7-8a38-ae6f5c872985",
   "metadata": {
    "tags": []
   },
   "source": [
    "## Data Cleaning"
   ]
  },
  {
   "cell_type": "markdown",
   "id": "90c163b3-6812-45f0-b4fd-b389f9a5e152",
   "metadata": {
    "tags": []
   },
   "source": [
    "### Remove Outliers"
   ]
  },
  {
   "cell_type": "code",
   "execution_count": 2,
   "id": "d6ecfa5c-e4f1-44a9-b30e-a58819364049",
   "metadata": {},
   "outputs": [
    {
     "name": "stdout",
     "output_type": "stream",
     "text": [
      "Upper Outlier Bound: 403.0\n",
      "Lower Outlier Bound: 0.0\n",
      "Removing Extreme Outliers cost us 3.25% of the data\n"
     ]
    }
   ],
   "source": [
    "## Imports ##\n",
    "from sklearn.model_selection import train_test_split\n",
    "from sklearn import model_selection\n",
    "from sklearn import linear_model\n",
    "from sklearn import ensemble\n",
    "from sklearn import tree\n",
    "from sklearn import neighbors\n",
    "from sklearn import preprocessing \n",
    "import pandas as pd\n",
    "from textblob import TextBlob\n",
    "import sklearn.preprocessing as pp\n",
    "from xgboost import XGBRegressor\n",
    "import numpy as np\n",
    "import matplotlib.pyplot as plt\n",
    "import nltk\n",
    "import statistics as stats\n",
    "from sklearn.feature_extraction.text import TfidfVectorizer\n",
    "from sklearn import cluster as clust\n",
    "import seaborn as sns\n",
    "from sklearn import neighbors\n",
    "import sklearn.decomposition as decomp\n",
    "import time\n",
    "from sklearn.metrics import explained_variance_score, mean_squared_error, r2_score\n",
    "\n",
    "\n",
    "target_name = 'price'\n",
    "path = '../data/cleaned_data/'\n",
    "fname = 'listings_complex.csv'\n",
    "\n",
    "## Clean Extreme Outlier Prices ##\n",
    "data = pd.read_csv(open(path+ fname))\n",
    "median = data[target_name].quantile(.5)\n",
    "upper_quartile = data[target_name].quantile(.75)\n",
    "lower_quartile = data[target_name].quantile(.25)\n",
    "iqr = upper_quartile - lower_quartile\n",
    "outlier_upper = data[data[target_name]<=upper_quartile+3*iqr][target_name].max()\n",
    "outlier_under = data[data[target_name]>=max(lower_quartile-3*iqr,0)][target_name].min()\n",
    "print(f'Upper Outlier Bound: {outlier_upper}\\nLower Outlier Bound: {outlier_under}')\n",
    "blen = len(data)\n",
    "data = data[(data['price']<outlier_upper) & (data['price']>outlier_under)]\n",
    "alen = len(data)\n",
    "print(f'Removing Extreme Outliers cost us {round((blen-alen)/blen*100,2)}% of the data')"
   ]
  },
  {
   "cell_type": "markdown",
   "id": "75d64280-fcee-4bde-bc20-bc97db08590d",
   "metadata": {
    "tags": []
   },
   "source": [
    "### Deal With Null Values\n"
   ]
  },
  {
   "cell_type": "code",
   "execution_count": 5,
   "id": "a1628888-ef31-4890-a9ec-9d0f24bbae4d",
   "metadata": {},
   "outputs": [
    {
     "data": {
      "text/plain": [
       "Index(['id', 'listing_url', 'scrape_id', 'last_searched', 'last_scraped',\n",
       "       'name', 'description', 'neighborhood_overview', 'picture_url',\n",
       "       'host_id', 'host_url', 'host_name', 'host_since', 'host_location',\n",
       "       'host_about', 'host_response_time', 'host_response_rate',\n",
       "       'host_acceptance_rate', 'host_is_superhost', 'host_thumbnail_url',\n",
       "       'host_picture_url', 'host_neighbourhood', 'host_listings_count',\n",
       "       'host_total_listings_count', 'host_verifications',\n",
       "       'host_has_profile_pic', 'host_identity_verified', 'neighbourhood',\n",
       "       'latitude', 'longitude', 'property_type', 'room_type', 'accommodates',\n",
       "       'bathrooms', 'bathrooms_text', 'bathroom_type', 'bedrooms', 'beds',\n",
       "       'amenities', 'price', 'minimum_nights', 'maximum_nights',\n",
       "       'minimum_minimum_nights', 'maximum_minimum_nights',\n",
       "       'minimum_maximum_nights', 'maximum_maximum_nights',\n",
       "       'minimum_nights_avg_ntm', 'maximum_nights_avg_ntm', 'calendar_updated',\n",
       "       'has_availability', 'availability_30', 'availability_60',\n",
       "       'availability_90', 'availability_365', 'calendar_last_scraped',\n",
       "       'number_of_reviews', 'number_of_reviews_ltm', 'number_of_reviews_l30d',\n",
       "       'first_review', 'last_review', 'review_scores_rating',\n",
       "       'review_scores_accuracy', 'review_scores_cleanliness',\n",
       "       'review_scores_checkin', 'review_scores_communication',\n",
       "       'review_scores_location', 'review_scores_value', 'requires_license',\n",
       "       'license', 'instant_bookable', 'calculated_host_listings_count',\n",
       "       'calculated_host_listings_count_entire_homes',\n",
       "       'calculated_host_listings_count_private_rooms',\n",
       "       'calculated_host_listings_count_shared_rooms', 'region_id',\n",
       "       'region_name', 'region_parent_id', 'region_parent_name',\n",
       "       'region_parent_parent_id', 'region_parent_parent_name',\n",
       "       'reviews_per_month'],\n",
       "      dtype='object')"
      ]
     },
     "execution_count": 5,
     "metadata": {},
     "output_type": "execute_result"
    }
   ],
   "source": [
    "## Initial Overview of Columns ##\n",
    "data.columns"
   ]
  },
  {
   "cell_type": "code",
   "execution_count": 3,
   "id": "2398d0d3-f3f8-4c10-8cbd-1ac77a116688",
   "metadata": {},
   "outputs": [],
   "source": [
    "## These variables are not useful in answering how much a first-time user should list their property at given they will not have this information readily available ##\n",
    "data = data.drop(labels=['last_searched', \n",
    "                  'review_scores_value',\n",
    "                  'review_scores_location', \n",
    "                  'review_scores_checkin', \n",
    "                  'review_scores_communication', \n",
    "                  'review_scores_accuracy', \n",
    "                  'review_scores_cleanliness', \n",
    "                  'review_scores_rating', \n",
    "                  'reviews_per_month',\n",
    "                  'last_review',\n",
    "                  'first_review',\n",
    "                  'id',\n",
    "                  'listing_url',\n",
    "                  'scrape_id',\n",
    "                  'last_scraped',\n",
    "                  'picture_url',\n",
    "                  'host_id',\n",
    "                  'host_url',\n",
    "                  'host_name',\n",
    "                  'host_since',\n",
    "                  'host_location',\n",
    "                  'host_thumbnail_url',\n",
    "                  'host_picture_url',\n",
    "                  'host_listings_count',\n",
    "                  'host_total_listings_count',\n",
    "                  'has_availability', \n",
    "                  'availability_30',\n",
    "                  'availability_60',\n",
    "                  'availability_90',\n",
    "                  'availability_365',\n",
    "                  'calendar_last_scraped',\n",
    "                  'number_of_reviews', \n",
    "                  'number_of_reviews_ltm',\n",
    "                  'number_of_reviews_l30d',\n",
    "                  'host_verifications',\n",
    "                  'calculated_host_listings_count',\n",
    "                  'calculated_host_listings_count_entire_homes',\n",
    "                  'calculated_host_listings_count_private_rooms',\n",
    "                  'calculated_host_listings_count_shared_rooms'], axis=1)"
   ]
  },
  {
   "cell_type": "code",
   "execution_count": 4,
   "id": "80f4fae1-161d-46ad-8db1-e27a261c1362",
   "metadata": {},
   "outputs": [],
   "source": [
    "## region_name, region_parent_name, and region_parent_parent_name are redundant versions of region_id, region_parent_id, and region_parent_parent_id ##\n",
    "## property_type is largely redundant information on room_type ##\n",
    "data = data.drop(labels=['region_name', \n",
    "                         'property_type',\n",
    "                         'region_parent_name', \n",
    "                         'region_parent_parent_name'],axis=1)"
   ]
  },
  {
   "cell_type": "code",
   "execution_count": 5,
   "id": "2ad1c6a0-d380-4176-96c9-965230d35f31",
   "metadata": {},
   "outputs": [
    {
     "data": {
      "text/plain": [
       "license                  1.000000\n",
       "bathrooms                1.000000\n",
       "calendar_updated         1.000000\n",
       "requires_license         1.000000\n",
       "host_neighbourhood       0.531077\n",
       "host_about               0.529419\n",
       "neighborhood_overview    0.394093\n",
       "neighbourhood            0.394093\n",
       "host_response_time       0.330753\n",
       "host_response_rate       0.330753\n",
       "host_acceptance_rate     0.292766\n",
       "dtype: float64"
      ]
     },
     "execution_count": 5,
     "metadata": {},
     "output_type": "execute_result"
    }
   ],
   "source": [
    "## Find the columns where number of nulls exceeds 10% of the data ##\n",
    "df = (data.isna().sum().sort_values(ascending=False).head(20)/len(data))\n",
    "df = df[df > .10]\n",
    "df"
   ]
  },
  {
   "cell_type": "code",
   "execution_count": 6,
   "id": "aff19784-945d-42c5-8002-a2b7e045d92d",
   "metadata": {},
   "outputs": [],
   "source": [
    "## These Variables have very high percentage of null values and are unlikely to be useful in our analysis ##\n",
    "data = data.drop(labels=['bathrooms',\n",
    "                  'license', \n",
    "                  'calendar_updated', \n",
    "                  'requires_license', \n",
    "                  'host_neighbourhood', \n",
    "                  'host_about', \n",
    "                  'neighbourhood'], axis=1)"
   ]
  },
  {
   "cell_type": "code",
   "execution_count": 7,
   "id": "d4e74cd3-e5fb-4278-8fd1-a3c517beb850",
   "metadata": {},
   "outputs": [
    {
     "name": "stdout",
     "output_type": "stream",
     "text": [
      "\u001b[1mNumeric Columns\u001b[0m\n",
      "bathrooms_text\n",
      "latitude\n",
      "minimum_nights\n",
      "maximum_maximum_nights\n",
      "minimum_nights_avg_ntm\n",
      "host_acceptance_rate\n",
      "accommodates\n",
      "longitude\n",
      "minimum_minimum_nights\n",
      "minimum_maximum_nights\n",
      "region_id\n",
      "maximum_nights\n",
      "beds\n",
      "bedrooms\n",
      "maximum_minimum_nights\n",
      "host_response_rate\n",
      "region_parent_id\n",
      "maximum_nights_avg_ntm\n",
      "\n",
      "\n",
      "\u001b[1mCategorical Columns\u001b[0m\n",
      "host_identity_verified\n",
      "instant_bookable\n",
      "room_type\n",
      "bathroom_type\n",
      "neighborhood_overview\n",
      "region_parent_parent_id\n",
      "name\n",
      "host_has_profile_pic\n",
      "description\n",
      "host_response_time\n",
      "amenities\n",
      "host_is_superhost\n"
     ]
    }
   ],
   "source": [
    "numeric_columns = set(data.select_dtypes(include=np.number).columns.tolist()) - set([target_name])\n",
    "categorical_columns = set(data.columns.tolist()) - numeric_columns - set([target_name])\n",
    "numeric_columns = list(numeric_columns)\n",
    "categorical_columns = list(categorical_columns)\n",
    "print('\\033[1m'+\"Numeric Columns\"+'\\033[0m')\n",
    "for el in numeric_columns:\n",
    "    print(el)\n",
    "print('\\n')\n",
    "print('\\033[1m'+\"Categorical Columns\"+'\\033[0m')\n",
    "for el in categorical_columns:\n",
    "    print(el)"
   ]
  },
  {
   "cell_type": "markdown",
   "id": "7d087af5-0272-4e99-8274-e0f82ea59971",
   "metadata": {
    "tags": []
   },
   "source": [
    "## Feature Engineering "
   ]
  },
  {
   "cell_type": "markdown",
   "id": "8d52168f-4ba3-4788-a95f-29ceab50e3b4",
   "metadata": {
    "tags": []
   },
   "source": [
    "### Numerical Variables"
   ]
  },
  {
   "cell_type": "code",
   "execution_count": 8,
   "id": "1ca372c9-ae34-4413-b156-580f6710dcc4",
   "metadata": {},
   "outputs": [
    {
     "data": {
      "text/plain": [
       "host_response_rate        8376\n",
       "host_acceptance_rate      7414\n",
       "bedrooms                   760\n",
       "beds                       142\n",
       "bathrooms_text              52\n",
       "region_id                    0\n",
       "region_parent_id             0\n",
       "maximum_minimum_nights       0\n",
       "maximum_nights               0\n",
       "minimum_maximum_nights       0\n",
       "latitude                     0\n",
       "minimum_minimum_nights       0\n",
       "longitude                    0\n",
       "accommodates                 0\n",
       "minimum_nights_avg_ntm       0\n",
       "maximum_maximum_nights       0\n",
       "minimum_nights               0\n",
       "maximum_nights_avg_ntm       0\n",
       "dtype: int64"
      ]
     },
     "execution_count": 8,
     "metadata": {},
     "output_type": "execute_result"
    }
   ],
   "source": [
    "## Look into Null Counts ## \n",
    "data[numeric_columns].isna().sum().sort_values(ascending=False)"
   ]
  },
  {
   "cell_type": "code",
   "execution_count": 9,
   "id": "b116f635-7bcd-4b90-9692-f67c525e17cb",
   "metadata": {
    "tags": []
   },
   "outputs": [],
   "source": [
    "## Get Rid of Nulls Rows For Columns with Low Null Counts ##\n",
    "data = data.drop(labels=['beds','bathrooms_text'],axis=1)\n",
    "numeric_columns = list(set(numeric_columns) - set(['beds','bathrooms_text']))\n",
    "\n",
    "## MVI for Other Columns with Nulls ##\n",
    "for element in ['host_response_rate','host_acceptance_rate', 'bedrooms']:\n",
    "    mean = data[data[element].notnull()][element].mean()\n",
    "    data[element] = data[element].apply(lambda x: mean if np.isnan(x) else x)"
   ]
  },
  {
   "cell_type": "markdown",
   "id": "fc620396-1107-4d93-9b09-47eb412ebdce",
   "metadata": {
    "tags": []
   },
   "source": [
    "### Categorical Variables"
   ]
  },
  {
   "cell_type": "markdown",
   "id": "db141ebe-49ff-48b2-9dd8-0ab06176bfaf",
   "metadata": {
    "tags": []
   },
   "source": [
    "#### Numerize region_parent_parent_id ####"
   ]
  },
  {
   "cell_type": "code",
   "execution_count": 10,
   "id": "d105421d-428e-4534-b401-79053b5724a1",
   "metadata": {},
   "outputs": [
    {
     "data": {
      "text/plain": [
       "array(['IE061', 'IE053', 'IE042', 'IE063', 'IE062', 'IE051', 'IE041',\n",
       "       'IE052'], dtype=object)"
      ]
     },
     "execution_count": 10,
     "metadata": {},
     "output_type": "execute_result"
    }
   ],
   "source": [
    "data.region_parent_parent_id.unique()"
   ]
  },
  {
   "cell_type": "code",
   "execution_count": 11,
   "id": "fe189b27-681a-48a3-a671-5a9430b70b29",
   "metadata": {},
   "outputs": [
    {
     "data": {
      "text/plain": [
       "0        61\n",
       "1        61\n",
       "2        61\n",
       "3        61\n",
       "4        61\n",
       "         ..\n",
       "26171    42\n",
       "26172    41\n",
       "26173    42\n",
       "26174    53\n",
       "26175    51\n",
       "Name: region_parent_parent_id, Length: 25324, dtype: int64"
      ]
     },
     "execution_count": 11,
     "metadata": {},
     "output_type": "execute_result"
    }
   ],
   "source": [
    "data.region_parent_parent_id = data.region_parent_parent_id.apply(lambda x: x.replace('IE0','')).astype(int)\n",
    "data.region_parent_parent_id"
   ]
  },
  {
   "cell_type": "markdown",
   "id": "2a1ae5e0-71be-4332-ae99-40400c3e2f81",
   "metadata": {
    "tags": []
   },
   "source": [
    "#### Numerize Plain Text Columns ####"
   ]
  },
  {
   "cell_type": "code",
   "execution_count": 12,
   "id": "2ccfe19b-4d75-492e-bbf1-641ce5d3bb40",
   "metadata": {
    "tags": []
   },
   "outputs": [
    {
     "name": "stdout",
     "output_type": "stream",
     "text": [
      "The number of rows in \"name\" column with null values: 2\n",
      "The number of rows in \"description\" column with null values: 594\n",
      "The number of rows in \"neighborhood_overview\" column with null values: 9980\n"
     ]
    }
   ],
   "source": [
    "## Check Number of Null Columns for each plain text column##\n",
    "plain_text_cols = ['name','description','neighborhood_overview']\n",
    "for col in plain_text_cols:\n",
    "    print(f'The number of rows in \"{col}\" column with null values: {data[col].isna().sum()}')"
   ]
  },
  {
   "cell_type": "code",
   "execution_count": 13,
   "id": "997867fd-75cb-4b75-aa7d-be5da7747d6a",
   "metadata": {},
   "outputs": [],
   "source": [
    "## Drop the null columns if small number of rows ##\n",
    "data.dropna(subset = ['name'], inplace=True)"
   ]
  },
  {
   "cell_type": "code",
   "execution_count": 14,
   "id": "4e95f500-7d11-4f37-90fd-c80cb47d666b",
   "metadata": {},
   "outputs": [
    {
     "name": "stdout",
     "output_type": "stream",
     "text": [
      "name: (Max: 1.0, Min: -1.0)\n",
      "description: (Max: 1.0, Min: -0.8)\n",
      "neighborhood_overview: (Max: 1.0, Min: -0.8)\n"
     ]
    },
    {
     "data": {
      "image/png": "[encoded data removed]",
      "text/plain": [
       "<Figure size 432x288 with 1 Axes>"
      ]
     },
     "metadata": {
      "needs_background": "light"
     },
     "output_type": "display_data"
    },
    {
     "data": {
      "image/png": "[encoded data removed]",
      "text/plain": [
       "<Figure size 432x288 with 1 Axes>"
      ]
     },
     "metadata": {
      "needs_background": "light"
     },
     "output_type": "display_data"
    },
    {
     "data": {
      "image/png": "[encoded data removed]",
      "text/plain": [
       "<Figure size 432x288 with 1 Axes>"
      ]
     },
     "metadata": {
      "needs_background": "light"
     },
     "output_type": "display_data"
    }
   ],
   "source": [
    "## Check Distributions of Sentiments of Each Plain Text Column ##\n",
    "for col in plain_text_cols:\n",
    "    plt.figure()\n",
    "    data[col] = data[col].apply(lambda x: TextBlob(x).sentiment.polarity if type(x) is str else np.nan)\n",
    "    data[data[col] != np.nan][col].hist()\n",
    "    plt.title(\"Frequency of \" + col + \" Polarity Scores\")\n",
    "    plt.xlabel(\"Sentiment\")\n",
    "    plt.ylabel(\"Counts\")\n",
    "    pd.DataFrame({'count' : data.groupby(col).size()}).reset_index().sort_values(by='count',ascending=False).head(10)\n",
    "    print(f'{col}: (Max: {data[data[col] != np.nan][col].max()}, Min: {data[data[col] != np.nan][col].min()})')"
   ]
  },
  {
   "cell_type": "code",
   "execution_count": 15,
   "id": "0c40ec33-59ec-4bc0-b69a-2ccdd1488620",
   "metadata": {},
   "outputs": [],
   "source": [
    "## Drop Categories w/ too many 'N/A' values into Bins\n",
    "description_mean = data[data['description'].notnull()]['description'].mean()\n",
    "neighborhood_overview_mean = data[data['neighborhood_overview'] != np.nan]['neighborhood_overview'].mean()\n",
    "data.description = data.description.apply(lambda x: description_mean if np.isnan(x) else x)\n",
    "data.neighborhood_overview = data.neighborhood_overview.apply(lambda x: neighborhood_overview_mean if np.isnan(x) else x)\n"
   ]
  },
  {
   "cell_type": "markdown",
   "id": "b9ca4f8e-9f24-4951-9281-f29635daa633",
   "metadata": {},
   "source": [
    "#### Numerize Other Categorical Columns ####"
   ]
  },
  {
   "cell_type": "code",
   "execution_count": 16,
   "id": "8c01fc28-44d9-460e-87df-1d999da5848c",
   "metadata": {},
   "outputs": [
    {
     "data": {
      "text/html": [
       "<div>\n",
       "<style scoped>\n",
       "    .dataframe tbody tr th:only-of-type {\n",
       "        vertical-align: middle;\n",
       "    }\n",
       "\n",
       "    .dataframe tbody tr th {\n",
       "        vertical-align: top;\n",
       "    }\n",
       "\n",
       "    .dataframe thead th {\n",
       "        text-align: right;\n",
       "    }\n",
       "</style>\n",
       "<table border=\"1\" class=\"dataframe\">\n",
       "  <thead>\n",
       "    <tr style=\"text-align: right;\">\n",
       "      <th></th>\n",
       "      <th>column name</th>\n",
       "      <th>number of unique values</th>\n",
       "    </tr>\n",
       "  </thead>\n",
       "  <tbody>\n",
       "    <tr>\n",
       "      <th>6</th>\n",
       "      <td>amenities</td>\n",
       "      <td>23695</td>\n",
       "    </tr>\n",
       "    <tr>\n",
       "      <th>5</th>\n",
       "      <td>host_response_time</td>\n",
       "      <td>5</td>\n",
       "    </tr>\n",
       "    <tr>\n",
       "      <th>2</th>\n",
       "      <td>room_type</td>\n",
       "      <td>4</td>\n",
       "    </tr>\n",
       "    <tr>\n",
       "      <th>0</th>\n",
       "      <td>host_identity_verified</td>\n",
       "      <td>3</td>\n",
       "    </tr>\n",
       "    <tr>\n",
       "      <th>3</th>\n",
       "      <td>bathroom_type</td>\n",
       "      <td>3</td>\n",
       "    </tr>\n",
       "    <tr>\n",
       "      <th>4</th>\n",
       "      <td>host_has_profile_pic</td>\n",
       "      <td>3</td>\n",
       "    </tr>\n",
       "    <tr>\n",
       "      <th>7</th>\n",
       "      <td>host_is_superhost</td>\n",
       "      <td>3</td>\n",
       "    </tr>\n",
       "    <tr>\n",
       "      <th>1</th>\n",
       "      <td>instant_bookable</td>\n",
       "      <td>2</td>\n",
       "    </tr>\n",
       "  </tbody>\n",
       "</table>\n",
       "</div>"
      ],
      "text/plain": [
       "              column name  number of unique values\n",
       "6               amenities                    23695\n",
       "5      host_response_time                        5\n",
       "2               room_type                        4\n",
       "0  host_identity_verified                        3\n",
       "3           bathroom_type                        3\n",
       "4    host_has_profile_pic                        3\n",
       "7       host_is_superhost                        3\n",
       "1        instant_bookable                        2"
      ]
     },
     "execution_count": 16,
     "metadata": {},
     "output_type": "execute_result"
    }
   ],
   "source": [
    "remaining_cat_cols = set(categorical_columns) - set(['neighborhood_overview', 'description', 'name', 'region_parent_parent_id'])\n",
    "remaining_cat_cols = list(remaining_cat_cols)\n",
    "lst = []\n",
    "for entry in remaining_cat_cols:\n",
    "    lst.append([entry,len(data[entry].unique())])\n",
    "df = pd.DataFrame(data=lst, columns=['column name', 'number of unique values']).sort_values(by='number of unique values',ascending=False)\n",
    "df"
   ]
  },
  {
   "cell_type": "code",
   "execution_count": 17,
   "id": "7f7f3132-82d5-440d-a341-dbf1b1e34cec",
   "metadata": {},
   "outputs": [
    {
     "data": {
      "text/plain": [
       "host_response_time        0.330740\n",
       "bathroom_type             0.087710\n",
       "host_identity_verified    0.002409\n",
       "host_has_profile_pic      0.002409\n",
       "host_is_superhost         0.002409\n",
       "instant_bookable          0.000000\n",
       "room_type                 0.000000\n",
       "dtype: float64"
      ]
     },
     "execution_count": 17,
     "metadata": {},
     "output_type": "execute_result"
    }
   ],
   "source": [
    "non_one_hot_encodable_cat_cols = ['amenities']\n",
    "one_hot_encodable_cat_cols = set(remaining_cat_cols) - set(non_one_hot_encodable_cat_cols)\n",
    "one_hot_encodable_cat_cols = list(one_hot_encodable_cat_cols)\n",
    "df = (data[one_hot_encodable_cat_cols].isna().sum().sort_values(ascending=False)/len(data)).head(20)\n",
    "df"
   ]
  },
  {
   "cell_type": "code",
   "execution_count": 18,
   "id": "b748b302-1c17-4302-8751-d11a78e67748",
   "metadata": {},
   "outputs": [
    {
     "data": {
      "image/png": "[encoded data removed]",
      "text/plain": [
       "<Figure size 504x360 with 1 Axes>"
      ]
     },
     "metadata": {
      "needs_background": "light"
     },
     "output_type": "display_data"
    },
    {
     "data": {
      "image/png": "[encoded data removed]",
      "text/plain": [
       "<Figure size 504x360 with 1 Axes>"
      ]
     },
     "metadata": {
      "needs_background": "light"
     },
     "output_type": "display_data"
    },
    {
     "data": {
      "image/png": "[encoded data removed]",
      "text/plain": [
       "<Figure size 504x360 with 1 Axes>"
      ]
     },
     "metadata": {
      "needs_background": "light"
     },
     "output_type": "display_data"
    },
    {
     "data": {
      "image/png": "[encoded data removed]",
      "text/plain": [
       "<Figure size 504x360 with 1 Axes>"
      ]
     },
     "metadata": {
      "needs_background": "light"
     },
     "output_type": "display_data"
    },
    {
     "data": {
      "image/png": "[encoded data removed]",
      "text/plain": [
       "<Figure size 504x360 with 1 Axes>"
      ]
     },
     "metadata": {
      "needs_background": "light"
     },
     "output_type": "display_data"
    },
    {
     "data": {
      "image/png": "[encoded data removed]",
      "text/plain": [
       "<Figure size 504x360 with 1 Axes>"
      ]
     },
     "metadata": {
      "needs_background": "light"
     },
     "output_type": "display_data"
    },
    {
     "data": {
      "image/png": "[encoded data removed]",
      "text/plain": [
       "<Figure size 504x360 with 1 Axes>"
      ]
     },
     "metadata": {
      "needs_background": "light"
     },
     "output_type": "display_data"
    }
   ],
   "source": [
    "## Drop null rows of categorical columns with low number of nulls ## \n",
    "data = data.dropna(subset=['room_type', 'instant_bookable', 'host_is_superhost', 'host_has_profile_pic', 'host_identity_verified'])\n",
    "data[[\"host_is_superhost\", \"host_has_profile_pic\", \"host_identity_verified\"]] *= 1\n",
    "## Convert Booleans to Strings ## \n",
    "\n",
    "# Create Categorical Bins for data that has high number of nulls ##\n",
    "data['bathroom_type'] = data['bathroom_type'].apply(lambda x: 'Unknown' if type(x) is float else x)\n",
    "data['host_response_time'] = data['host_response_time'].apply(lambda x: 'Unknown' if type(x) is float else x)\n",
    "for entry in one_hot_encodable_cat_cols:\n",
    "    plt.figure(figsize=(7,5))\n",
    "    plt.title(f'Histogram of {entry} Column')\n",
    "    plt.xlabel(entry)\n",
    "    plt.ylabel('count')\n",
    "    data[entry].hist();"
   ]
  },
  {
   "cell_type": "code",
   "execution_count": 19,
   "id": "43c5d7ca-dcf2-4089-bdc3-5e012671f0ed",
   "metadata": {},
   "outputs": [
    {
     "data": {
      "text/plain": [
       "Index(['name', 'description', 'neighborhood_overview', 'host_response_rate',\n",
       "       'host_acceptance_rate', 'latitude', 'longitude', 'accommodates',\n",
       "       'bedrooms', 'amenities', 'price', 'minimum_nights', 'maximum_nights',\n",
       "       'minimum_minimum_nights', 'maximum_minimum_nights',\n",
       "       'minimum_maximum_nights', 'maximum_maximum_nights',\n",
       "       'minimum_nights_avg_ntm', 'maximum_nights_avg_ntm', 'region_id',\n",
       "       'region_parent_id', 'region_parent_parent_id',\n",
       "       'host_identity_verified_0', 'host_identity_verified_1',\n",
       "       'instant_bookable_f', 'instant_bookable_t', 'room_type_Entire home/apt',\n",
       "       'room_type_Hotel room', 'room_type_Private room',\n",
       "       'room_type_Shared room', 'host_response_time_Unknown',\n",
       "       'host_response_time_a few days or more',\n",
       "       'host_response_time_within a day',\n",
       "       'host_response_time_within a few hours',\n",
       "       'host_response_time_within an hour', 'host_has_profile_pic_0',\n",
       "       'host_has_profile_pic_1', 'bathroom_type_Private',\n",
       "       'bathroom_type_Shared', 'bathroom_type_Unknown', 'host_is_superhost_0',\n",
       "       'host_is_superhost_1'],\n",
       "      dtype='object')"
      ]
     },
     "execution_count": 19,
     "metadata": {},
     "output_type": "execute_result"
    }
   ],
   "source": [
    "## Drop Highly Skewed One-Hot Encodings ##\n",
    "transformed_df = pd.get_dummies(data[one_hot_encodable_cat_cols])\n",
    "data = data.drop(labels=one_hot_encodable_cat_cols,axis=1)\n",
    "\n",
    "data[transformed_df.columns] = transformed_df\n",
    "data.columns"
   ]
  },
  {
   "cell_type": "code",
   "execution_count": 20,
   "id": "509680cc-ccd9-4aa4-a5dd-219f91a890c6",
   "metadata": {},
   "outputs": [
    {
     "data": {
      "text/plain": [
       "['amenities']"
      ]
     },
     "execution_count": 20,
     "metadata": {},
     "output_type": "execute_result"
    }
   ],
   "source": [
    "# The Remaining Non One Hot Encodable Columns ##\n",
    "non_one_hot_encodable_cat_cols"
   ]
  },
  {
   "cell_type": "code",
   "execution_count": 21,
   "id": "63752f7d-ae2e-4b09-a25d-357a7db8267b",
   "metadata": {},
   "outputs": [
    {
     "data": {
      "text/plain": [
       "1648"
      ]
     },
     "execution_count": 21,
     "metadata": {},
     "output_type": "execute_result"
    }
   ],
   "source": [
    "unique_amenities_strings = set([])\n",
    "for entry in data.amenities:\n",
    "    string = entry\n",
    "    string = string.replace('[','')\n",
    "    string = string.replace(']','')\n",
    "    string = string.replace('\"','')\n",
    "    string_splits = string.split(',')\n",
    "    unique_amenities_strings = unique_amenities_strings.union(set(string_splits))\n",
    "len(unique_amenities_strings)"
   ]
  },
  {
   "cell_type": "code",
   "execution_count": 22,
   "id": "c348cbb1-9091-41e5-b5b7-5e429fc9a132",
   "metadata": {},
   "outputs": [
    {
     "name": "stdout",
     "output_type": "stream",
     "text": [
      "Centrums: 10\n",
      "Centrums: 50\n",
      "Centrums: 100\n"
     ]
    },
    {
     "name": "stderr",
     "output_type": "stream",
     "text": [
      "/var/folders/jm/bksk53kj0zdfl9hhmmfvg7yh0000gn/T/ipykernel_19137/2407790162.py:34: PerformanceWarning: DataFrame is highly fragmented.  This is usually the result of calling `frame.insert` many times, which has poor performance.  Consider joining all columns at once using pd.concat(axis=1) instead.  To get a de-fragmented frame, use `newframe = frame.copy()`\n",
      "  data_copy['contains_amenity_cluster_'+str(index)] = data_copy['amenities'].apply(lambda x: 1 if index in x else 0)\n"
     ]
    },
    {
     "name": "stdout",
     "output_type": "stream",
     "text": [
      "Centrums: 200\n"
     ]
    },
    {
     "name": "stderr",
     "output_type": "stream",
     "text": [
      "/var/folders/jm/bksk53kj0zdfl9hhmmfvg7yh0000gn/T/ipykernel_19137/2407790162.py:34: PerformanceWarning: DataFrame is highly fragmented.  This is usually the result of calling `frame.insert` many times, which has poor performance.  Consider joining all columns at once using pd.concat(axis=1) instead.  To get a de-fragmented frame, use `newframe = frame.copy()`\n",
      "  data_copy['contains_amenity_cluster_'+str(index)] = data_copy['amenities'].apply(lambda x: 1 if index in x else 0)\n"
     ]
    }
   ],
   "source": [
    "n_centrums = [10, 50, 100, 200]\n",
    "\n",
    "def numerize_amenities(data, n, unique_amenities_strings):\n",
    "    print(f'Centrums: {n}')\n",
    "    data_copy = data.copy()\n",
    "    corpus = list(unique_amenities_strings)\n",
    "    vectorizer = TfidfVectorizer()\n",
    "    X = vectorizer.fit_transform(corpus)\n",
    "    kmeans = clust.KMeans(n_clusters=n).fit(X)\n",
    "    \n",
    "    map_amenities_clusters = {}\n",
    "    \n",
    "    ## Function for transforming amenities from a lst of strings to a list of numbers (which represent clusters)  ## \n",
    "    def strings_to_clusters(original_amenities_string):\n",
    "        clusters = []\n",
    "        string = original_amenities_string\n",
    "        string = string.replace('[','')\n",
    "        string = string.replace(']','')\n",
    "        string = string.replace('\"','')\n",
    "        string_splits = string.split(',')\n",
    "        for entry in string_splits:\n",
    "            clusters.append(map_amenities_clusters[entry])\n",
    "        return clusters\n",
    "\n",
    "    ## Create map of strings in amenities to clusters ##\n",
    "    for cluster in set(kmeans.labels_):\n",
    "        cluster_amenities_list = [i for indx,i in enumerate(corpus) if kmeans.labels_[indx] == cluster]\n",
    "        for amenity in cluster_amenities_list:\n",
    "            map_amenities_clusters[amenity] = cluster\n",
    "    data_copy['amenities'] = data_copy['amenities'].apply(strings_to_clusters)\n",
    "    \n",
    "    ## One-Hot Encode These Amenities ##\n",
    "    for index in range(len(set(kmeans.labels_))):\n",
    "        data_copy['contains_amenity_cluster_'+str(index)] = data_copy['amenities'].apply(lambda x: 1 if index in x else 0)\n",
    "    data_copy = data_copy.drop(labels='amenities', axis=1)\n",
    "    return data_copy\n",
    "\n",
    "data_list = {}\n",
    "for n in n_centrums:\n",
    "    data_list[n] = numerize_amenities(data, n, unique_amenities_strings) "
   ]
  },
  {
   "cell_type": "markdown",
   "id": "a8c2a51f-87f0-46d9-acd5-4407cad8fa5b",
   "metadata": {},
   "source": [
    "### Sanity Check"
   ]
  },
  {
   "cell_type": "code",
   "execution_count": 23,
   "id": "c6590190-391f-405a-8e0a-aabd6fbb6ba0",
   "metadata": {},
   "outputs": [
    {
     "data": {
      "text/html": [
       "<div>\n",
       "<style scoped>\n",
       "    .dataframe tbody tr th:only-of-type {\n",
       "        vertical-align: middle;\n",
       "    }\n",
       "\n",
       "    .dataframe tbody tr th {\n",
       "        vertical-align: top;\n",
       "    }\n",
       "\n",
       "    .dataframe thead th {\n",
       "        text-align: right;\n",
       "    }\n",
       "</style>\n",
       "<table border=\"1\" class=\"dataframe\">\n",
       "  <thead>\n",
       "    <tr style=\"text-align: right;\">\n",
       "      <th></th>\n",
       "      <th>n_clusters</th>\n",
       "      <th>Number of Categorical Variables</th>\n",
       "      <th>Number of Nulls</th>\n",
       "    </tr>\n",
       "  </thead>\n",
       "  <tbody>\n",
       "    <tr>\n",
       "      <th>0</th>\n",
       "      <td>10</td>\n",
       "      <td>0</td>\n",
       "      <td>0</td>\n",
       "    </tr>\n",
       "    <tr>\n",
       "      <th>1</th>\n",
       "      <td>50</td>\n",
       "      <td>0</td>\n",
       "      <td>0</td>\n",
       "    </tr>\n",
       "    <tr>\n",
       "      <th>2</th>\n",
       "      <td>100</td>\n",
       "      <td>0</td>\n",
       "      <td>0</td>\n",
       "    </tr>\n",
       "    <tr>\n",
       "      <th>3</th>\n",
       "      <td>200</td>\n",
       "      <td>0</td>\n",
       "      <td>0</td>\n",
       "    </tr>\n",
       "  </tbody>\n",
       "</table>\n",
       "</div>"
      ],
      "text/plain": [
       "   n_clusters  Number of Categorical Variables  Number of Nulls\n",
       "0          10                                0                0\n",
       "1          50                                0                0\n",
       "2         100                                0                0\n",
       "3         200                                0                0"
      ]
     },
     "execution_count": 23,
     "metadata": {},
     "output_type": "execute_result"
    }
   ],
   "source": [
    "## Check to Ensure All Categorical Variables Have Been Numerized ##\n",
    "cat_var_count = {}\n",
    "for entry in data_list:\n",
    "    cat_var_count[entry] = len(set(data_list[entry].columns)-set(data_list[entry].select_dtypes(include=np.number).columns.tolist()))\n",
    "\n",
    "## Ensure Every Single Entry in data array is non-null (and thus every numeric column is non-null)\n",
    "null_count = {}\n",
    "for entry in data_list:\n",
    "    null_count[entry] = data_list[entry].isna().sum().sort_values(ascending=False).sum()\n",
    "pd.concat([pd.Series(null_count), pd.Series(cat_var_count)], axis=1).reset_index().rename(columns={'index': 'n_clusters', 0: \"Number of Categorical Variables\", 1: \"Number of Nulls\"})"
   ]
  },
  {
   "cell_type": "markdown",
   "id": "db0004f8-010b-44e2-9c7e-73464b403291",
   "metadata": {},
   "source": [
    "### Model Selection"
   ]
  },
  {
   "cell_type": "code",
   "execution_count": 24,
   "id": "61459783-f59c-4691-a9a9-2dbaa50eaf6e",
   "metadata": {},
   "outputs": [
    {
     "name": "stdout",
     "output_type": "stream",
     "text": [
      "10\n",
      "50\n",
      "100\n",
      "200\n"
     ]
    },
    {
     "data": {
      "text/html": [
       "<div>\n",
       "<style scoped>\n",
       "    .dataframe tbody tr th:only-of-type {\n",
       "        vertical-align: middle;\n",
       "    }\n",
       "\n",
       "    .dataframe tbody tr th {\n",
       "        vertical-align: top;\n",
       "    }\n",
       "\n",
       "    .dataframe thead th {\n",
       "        text-align: right;\n",
       "    }\n",
       "</style>\n",
       "<table border=\"1\" class=\"dataframe\">\n",
       "  <thead>\n",
       "    <tr style=\"text-align: right;\">\n",
       "      <th></th>\n",
       "      <th>10</th>\n",
       "      <th>50</th>\n",
       "      <th>100</th>\n",
       "      <th>200</th>\n",
       "    </tr>\n",
       "  </thead>\n",
       "  <tbody>\n",
       "    <tr>\n",
       "      <th>Gradient Boosting Regressor</th>\n",
       "      <td>0.526703</td>\n",
       "      <td>0.526675</td>\n",
       "      <td>0.535945</td>\n",
       "      <td>0.540121</td>\n",
       "    </tr>\n",
       "    <tr>\n",
       "      <th>Random Forest Regressor</th>\n",
       "      <td>0.526841</td>\n",
       "      <td>0.524403</td>\n",
       "      <td>0.529302</td>\n",
       "      <td>0.531657</td>\n",
       "    </tr>\n",
       "    <tr>\n",
       "      <th>KNN Regressor</th>\n",
       "      <td>0.316870</td>\n",
       "      <td>0.326380</td>\n",
       "      <td>0.326602</td>\n",
       "      <td>0.336994</td>\n",
       "    </tr>\n",
       "  </tbody>\n",
       "</table>\n",
       "</div>"
      ],
      "text/plain": [
       "                                  10        50        100       200\n",
       "Gradient Boosting Regressor  0.526703  0.526675  0.535945  0.540121\n",
       "Random Forest Regressor      0.526841  0.524403  0.529302  0.531657\n",
       "KNN Regressor                0.316870  0.326380  0.326602  0.336994"
      ]
     },
     "execution_count": 24,
     "metadata": {},
     "output_type": "execute_result"
    }
   ],
   "source": [
    "gb = {}\n",
    "rf = {}\n",
    "knn = {}\n",
    "for entry in data_list:\n",
    "    features_names = list(set(data_list[entry].columns)-set([target_name]))\n",
    "    X = data_list[entry][features_names]\n",
    "    y = data_list[entry][target_name]\n",
    "    X_fold, X_test, y_fold, y_test = model_selection.train_test_split(X,y,test_size=.2)\n",
    "    gb[entry] = model_selection.cross_val_score(XGBRegressor(), X_fold, y_fold ,cv=5,scoring=\"r2\").mean()\n",
    "    rf[entry] = model_selection.cross_val_score(ensemble.RandomForestRegressor(), X_fold, y_fold ,cv=5,scoring=\"r2\").mean()\n",
    "    knn[entry] = model_selection.cross_val_score(neighbors.KNeighborsRegressor(), X_fold, y_fold ,cv=5,scoring=\"r2\").mean()\n",
    "    print(entry)\n",
    "pd.DataFrame.from_dict({'Gradient Boosting Regressor': gb,'Random Forest Regressor': rf,'KNN Regressor': knn}, orient='index')"
   ]
  },
  {
   "cell_type": "markdown",
   "id": "0ae75669-1b21-42f6-b400-6513a03d2d0f",
   "metadata": {},
   "source": [
    "### Model Improvement"
   ]
  },
  {
   "cell_type": "code",
   "execution_count": 25,
   "id": "15649c36-4186-4fb5-a02c-aeed2c5a9164",
   "metadata": {},
   "outputs": [
    {
     "name": "stdout",
     "output_type": "stream",
     "text": [
      "Number of Features in model with n_clusters=10: 51\n",
      "Number of Features in model with n_clusters=50: 91\n",
      "Number of Features in model with n_clusters=100: 141\n",
      "Number of Features in model with n_clusters=200: 241\n"
     ]
    },
    {
     "data": {
      "image/png": "[encoded data removed]",
      "text/plain": [
       "<Figure size 432x288 with 1 Axes>"
      ]
     },
     "metadata": {
      "needs_background": "light"
     },
     "output_type": "display_data"
    },
    {
     "data": {
      "image/png": "[encoded data removed]",
      "text/plain": [
       "<Figure size 432x288 with 1 Axes>"
      ]
     },
     "metadata": {
      "needs_background": "light"
     },
     "output_type": "display_data"
    },
    {
     "data": {
      "image/png": "[encoded data removed]",
      "text/plain": [
       "<Figure size 432x288 with 1 Axes>"
      ]
     },
     "metadata": {
      "needs_background": "light"
     },
     "output_type": "display_data"
    },
    {
     "data": {
      "image/png": "[encoded data removed]",
      "text/plain": [
       "<Figure size 432x288 with 1 Axes>"
      ]
     },
     "metadata": {
      "needs_background": "light"
     },
     "output_type": "display_data"
    }
   ],
   "source": [
    "for entry in data_list:\n",
    "    correlation = data_list[entry].corr(method='pearson').abs().reset_index()\n",
    "    plt.figure()\n",
    "    plt.hist(correlation['price'])\n",
    "    plt.title(f'Dimensionality Analysis of Model with n_clusters={entry}')\n",
    "    plt.xlabel('Features Correlation with Price')\n",
    "    plt.ylabel('Frequency')\n",
    "    print(f'Number of Features in model with n_clusters={entry}: {len(data_list[entry].columns)}')"
   ]
  },
  {
   "cell_type": "code",
   "execution_count": 26,
   "id": "de079214-9cd3-4337-a35d-3833746c0245",
   "metadata": {},
   "outputs": [
    {
     "name": "stdout",
     "output_type": "stream",
     "text": [
      "(rate=0.05,n=100): 0.5213486257551408\n",
      "(rate=0.05,n=150): 0.5324035415859357\n",
      "(rate=0.05,n=200): 0.5382082205449964\n",
      "(rate=0.075,n=100): 0.5321810335613855\n",
      "(rate=0.075,n=150): 0.5401657523648516\n",
      "(rate=0.075,n=200): 0.5455613464608351\n",
      "(rate=0.1,n=100): 0.5366982816223496\n",
      "(rate=0.1,n=150): 0.5419232196227354\n",
      "(rate=0.1,n=200): 0.5461288131385157\n",
      "(rate=0.3,n=100): 0.5386452176208325\n",
      "(rate=0.3,n=150): 0.540011324637035\n",
      "(rate=0.3,n=200): 0.5395543745696121\n"
     ]
    }
   ],
   "source": [
    "import sklearn.preprocessing as pp\n",
    "\n",
    "learning_rates = [.05,.075,.1,.3]\n",
    "n_estimators = [100,150,200]\n",
    "n_clusters_best = 10\n",
    "features_names = list(set(data_list[n_clusters_best].columns)-set([target_name]))\n",
    "X = data_list[n_clusters_best][features_names]\n",
    "y = data_list[n_clusters_best][target_name]\n",
    "X_fold, X_test, y_fold, y_test = model_selection.train_test_split(X,y,test_size=.1)\n",
    "for rate in learning_rates:\n",
    "    for n in n_estimators:\n",
    "        print(f'(rate={rate},n={n}): {model_selection.cross_val_score(XGBRegressor(learning_rate=rate,n_estimators=n), X_fold, y_fold ,cv=10,scoring=\"r2\").mean()}')"
   ]
  },
  {
   "cell_type": "code",
   "execution_count": 27,
   "id": "aaf1c3b3-aa81-485a-bff8-03b81bb021f1",
   "metadata": {},
   "outputs": [
    {
     "name": "stdout",
     "output_type": "stream",
     "text": [
      "Time taken to run: 0.0 minutes\n",
      "\n",
      "Training MSE: 1603.9562\n",
      "Testing MSE: 2107.847\n",
      "\n",
      "Training r2: 0.654\n",
      "Testing r2: 0.5367\n"
     ]
    }
   ],
   "source": [
    "xgb_reg_start = time.time()\n",
    "\n",
    "xgb_reg = XGBRegressor(learning_rate=.1,n_estimators=100)\n",
    "xgb_reg.fit(X_fold, y_fold)\n",
    "training_preds_xgb_reg = xgb_reg.predict(X_fold)\n",
    "val_preds_xgb_reg = xgb_reg.predict(X_test)\n",
    "\n",
    "xgb_reg_end = time.time()\n",
    "\n",
    "print(f\"Time taken to run: {round((xgb_reg_end - xgb_reg_start)/60,1)} minutes\")\n",
    "print(\"\\nTraining MSE:\", round(mean_squared_error(y_fold, training_preds_xgb_reg),4))\n",
    "print(\"Testing MSE:\", round(mean_squared_error(y_test, val_preds_xgb_reg),4))\n",
    "print(\"\\nTraining r2:\", round(r2_score(y_fold, training_preds_xgb_reg),4))\n",
    "print(\"Testing r2:\", round(r2_score(y_test, val_preds_xgb_reg),4))"
   ]
  }
 ],
 "metadata": {
  "kernelspec": {
   "display_name": "Python 3 (ipykernel)",
   "language": "python",
   "name": "python3"
  },
  "language_info": {
   "codemirror_mode": {
    "name": "ipython",
    "version": 3
   },
   "file_extension": ".py",
   "mimetype": "text/x-python",
   "name": "python",
   "nbconvert_exporter": "python",
   "pygments_lexer": "ipython3",
   "version": "3.8.2"
  }
 },
 "nbformat": 4,
 "nbformat_minor": 5
}
