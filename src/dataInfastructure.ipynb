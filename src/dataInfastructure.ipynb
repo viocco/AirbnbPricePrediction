{
 "cells": [
  {
   "cell_type": "markdown",
   "id": "248da214-ff6d-4da1-a4a8-17b95243dc8e",
   "metadata": {},
   "source": [
    "## Download Relevant Files"
   ]
  },
  {
   "cell_type": "code",
   "execution_count": 114,
   "id": "8fad51a8-0667-419a-9f60-337de025391d",
   "metadata": {},
   "outputs": [],
   "source": [
    "import requests as request\n",
    "from bs4 import BeautifulSoup\n",
    "import re\n",
    "import gzip\n",
    "import shutil\n",
    "import os\n",
    "\n",
    "response = request.get('http://insideairbnb.com/get-the-data.html')\n",
    "html = response.text\n",
    "soup = BeautifulSoup(html, 'html.parser')"
   ]
  },
  {
   "cell_type": "code",
   "execution_count": 115,
   "id": "3cacd4c5-24c9-4e6e-89a9-62046d7536fe",
   "metadata": {},
   "outputs": [],
   "source": [
    "## Set User-Defined Variables ##\n",
    "areas = ['ireland']\n",
    "fnames = ['listings_complex.csv', 'calendar.csv', 'reviews_complex.csv', 'listings.csv', 'reviews.csv', 'neighbourhoods.csv', 'neighbourhoods.geojson']\n",
    "directory = '../data/initial_data/'\n",
    "directory2 = '../data/cleaned_data/'\n",
    "archived_limit = 7\n",
    "\n",
    "## Scrape Airbnb Webpage ##\n",
    "if not os.path.isdir(directory[:-1]): \n",
    "    os.makedirs(directory)\n",
    "if not os.path.isdir(directory2[:-1]): \n",
    "    os.makedirs(directory2)\n",
    "tables = []\n",
    "for area in areas:\n",
    "    tables.append(soup.find_all('table', re.compile(\"table-hover table-striped \"+ area)))\n",
    "for table in tables:\n",
    "    counter = 0\n",
    "    for row in table[0].find('tbody').find_all('tr',not re.compile('archived')):\n",
    "        if counter >= archived_limit:\n",
    "            break\n",
    "        if counter <= 2:\n",
    "            open(directory + names[counter]+'.gz', 'wb').write(request.get(row.find('a')['href']).content)\n",
    "            with gzip.open(directory+names[counter]+'.gz', 'rb') as f_in:\n",
    "                with open(directory+names[counter], 'wb') as f_out:\n",
    "                    shutil.copyfileobj(f_in, f_out)\n",
    "            os.remove(directory+names[counter]+'.gz')\n",
    "        else:\n",
    "            open(directory+names[counter], 'wb').write(request.get(row.find('a')['href']).content)\n",
    "        counter += 1"
   ]
  },
  {
   "cell_type": "code",
   "execution_count": null,
   "id": "312f791e-55c9-4f37-a0fd-4ff87a8472fc",
   "metadata": {},
   "outputs": [],
   "source": []
  }
 ],
 "metadata": {
  "kernelspec": {
   "display_name": "Python 3 (ipykernel)",
   "language": "python",
   "name": "python3"
  },
  "language_info": {
   "codemirror_mode": {
    "name": "ipython",
    "version": 3
   },
   "file_extension": ".py",
   "mimetype": "text/x-python",
   "name": "python",
   "nbconvert_exporter": "python",
   "pygments_lexer": "ipython3",
   "version": "3.8.2"
  }
 },
 "nbformat": 4,
 "nbformat_minor": 5
}
